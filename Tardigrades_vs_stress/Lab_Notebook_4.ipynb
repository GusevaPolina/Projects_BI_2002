{
  "cells": [
    {
      "cell_type": "markdown",
      "id": "e8fb75c1",
      "metadata": {
        "id": "e8fb75c1"
      },
      "source": [
        "# Project 4. \"Tardigrades: from genestealers to space marines\". Eukaryotic genome analysis.\n",
        "\n",
        "Lab notebook by Nikita Vyatkin and Polina Guseva"
      ]
    },
    {
      "cell_type": "code",
      "source": [
        "def show_file_content(path, lines=10, headers_only=False):\n",
        "    if headers_only:\n",
        "        ! mkdir -p temp\n",
        "        ! touch temp/show_file_content.tmp\n",
        "        ! grep '>' {path} > temp/show_file_content.tmp\n",
        "        path = \"temp/show_file_content.tmp\"\n",
        "    \n",
        "    ! head -{lines} {path}\n",
        "    print(\"...\")\n",
        "    ! tail -{lines} {path}\n",
        "    \n",
        "    if headers_only:\n",
        "        ! rm {path}\n",
        "\n",
        "\n",
        "def count_seqs(path):\n",
        "    res = ! grep '>' {path} | wc -l\n",
        "    print(f\"Total: {res[0]} sequencies\")"
      ],
      "metadata": {
        "id": "EBFf6ik40s-l"
      },
      "id": "EBFf6ik40s-l",
      "execution_count": null,
      "outputs": []
    },
    {
      "cell_type": "markdown",
      "id": "668b748b",
      "metadata": {
        "id": "668b748b"
      },
      "source": [
        "## Data source\n",
        "\n",
        "For this project we will be using a sequence of the _Ramazzottius varieornatus_, the YOKOZUNA-1 strain (sequenced in the University of Tokyo and named after the highest rank in professional sumo).\n",
        "\n",
        "One can download assembled genome [here](https://ftp.ncbi.nlm.nih.gov/genomes/all/GCA/001/949/185/GCA_001949185.1_Rvar_4.0/GCA_001949185.1_Rvar_4.0_genomic.fna.gz)"
      ]
    },
    {
      "cell_type": "code",
      "execution_count": null,
      "id": "b0b32a6d",
      "metadata": {
        "id": "b0b32a6d",
        "outputId": "60a59ab3-4cbf-45c4-da43-e882a976e2ea",
        "colab": {
          "base_uri": "https://localhost:8080/"
        }
      },
      "outputs": [
        {
          "output_type": "stream",
          "name": "stdout",
          "text": [
            "--2022-12-06 21:27:58--  https://ftp.ncbi.nlm.nih.gov/genomes/all/GCA/001/949/185/GCA_001949185.1_Rvar_4.0/GCA_001949185.1_Rvar_4.0_genomic.fna.gz\n",
            "Resolving ftp.ncbi.nlm.nih.gov (ftp.ncbi.nlm.nih.gov)... 130.14.250.7, 130.14.250.10, 2607:f220:41e:250::10, ...\n",
            "Connecting to ftp.ncbi.nlm.nih.gov (ftp.ncbi.nlm.nih.gov)|130.14.250.7|:443... connected.\n",
            "HTTP request sent, awaiting response... 200 OK\n",
            "Length: 17621408 (17M) [application/x-gzip]\n",
            "Saving to: ‘data/GCA_001949185.1_Rvar_4.0_genomic.fna.gz’\n",
            "\n",
            "GCA_001949185.1_Rva 100%[===================>]  16.80M  37.2MB/s    in 0.5s    \n",
            "\n",
            "2022-12-06 21:27:58 (37.2 MB/s) - ‘data/GCA_001949185.1_Rvar_4.0_genomic.fna.gz’ saved [17621408/17621408]\n",
            "\n"
          ]
        }
      ],
      "source": [
        "! wget -P data/ https://ftp.ncbi.nlm.nih.gov/genomes/all/GCA/001/949/185/GCA_001949185.1_Rvar_4.0/GCA_001949185.1_Rvar_4.0_genomic.fna.gz\n",
        "! gunzip data/GCA_001949185.1_Rvar_4.0_genomic.fna.gz\n",
        "! mv data/GCA_001949185.1_Rvar_4.0_genomic.fna data/Ramazzottius_varieornatus.fna"
      ]
    },
    {
      "cell_type": "code",
      "execution_count": null,
      "id": "a7a139c7",
      "metadata": {
        "id": "a7a139c7",
        "outputId": "d582919b-33fd-44fe-f327-fa7b5074f8d2",
        "colab": {
          "base_uri": "https://localhost:8080/"
        }
      },
      "outputs": [
        {
          "output_type": "stream",
          "name": "stdout",
          "text": [
            "total 54M\n",
            "-rw-r--r-- 1 root root 54M Jan 12  2017 Ramazzottius_varieornatus.fna\n"
          ]
        }
      ],
      "source": [
        "! ls -lh data"
      ]
    },
    {
      "cell_type": "code",
      "execution_count": null,
      "id": "f48a123c",
      "metadata": {
        "id": "f48a123c",
        "outputId": "4dfbc63d-4d72-4897-ed11-47a831a5c12b"
      },
      "outputs": [
        {
          "name": "stdout",
          "output_type": "stream",
          "text": [
            ">BDGG01000001.1 Ramazzottius varieornatus DNA, contig: Scaffold001, strain: YOKOZUNA-1, whole genome shotgun sequence\r\n",
            "TGCTGCGACATACTCGAAACACCCAAGGTCTTACCGGGAGAATATCGTCGTCTGGAGGATTTGTATGGGCCATTGTGATG\r\n",
            "GCCGCTACCTGGCATTGTACAACTTGAATGGTTGGTCTGAGCGGGACATGATCGACAGGTGGGCTTTGATGGTGACACTT\r\n",
            "TTGGTGCCGCCGGCATTCCTTCTGCCCGCACGTGACATCGACAACCTCTTGACTGCCGGCCATGAAACCTCACCCCAAAC\r\n",
            "AGGTATTCAGTGGGCAGAAAAAGCTACAAAAATCCTATCGCACGGGAATAAGTCCGTGCTAAACTAGTTAGAGCGACTTT\r\n",
            "TGAAAGGAAGATGTAGAGTTTAGTTCATTGGAGTAATCAAGTCTTCGGTTAgtttcgtgacgtcacgattGATCCGTATG\r\n",
            "GTGAAGCGTCTGAGCACAGAGTTTTCTTATTTTTCAACAGGTGGGAGCGACGTCATGAGCGAGTATGTGACGCCCTTCTG\r\n",
            "TTACGTCTGTGATTCTCTCGTGGATGCCGACTGCCGAGAATCGCAAGACTGGATGCCTCGACGAAGAAACGGCttaagga\r\n",
            "agaaagtgatgTGGACAGGCCAAGGGGAGGACGATCATGGCAGACTTGCCTTCGACTGGAAAGAAGTCTACATtcggctg\r\n"
          ]
        }
      ],
      "source": [
        "show_file_content(\"data/Ramazzottius_varieornatus.fna\")\n",
        "count_seqs(\"data/Ramazzottius_varieornatus.fna\")"
      ]
    },
    {
      "cell_type": "code",
      "source": [
        "show_file_content(\"data/Ramazzottius_varieornatus.fna\", lines=3, headers_only=True)"
      ],
      "metadata": {
        "id": "y1eM8OFp7XvM"
      },
      "id": "y1eM8OFp7XvM",
      "execution_count": null,
      "outputs": []
    },
    {
      "cell_type": "code",
      "source": [
        "count_seqs(\"data/Ramazzottius_varieornatus.fna\")"
      ],
      "metadata": {
        "id": "42whMyKT7ak7"
      },
      "id": "42whMyKT7ak7",
      "execution_count": null,
      "outputs": []
    },
    {
      "cell_type": "markdown",
      "id": "1b577d86",
      "metadata": {
        "id": "1b577d86"
      },
      "source": [
        "## Functional annotation\n",
        "\n",
        "One can download AUGUSTUS results [here](https://drive.google.com/file/d/1wBxf6cDgu22NbjAOgTe-8b3Zx60hNKY0/view?usp=drive_web).\n",
        "\n",
        "[Script](http://augustus.gobics.de/binaries/scripts/getAnnoFasta.pl) for GFF to FASTA converting."
      ]
    },
    {
      "cell_type": "code",
      "source": [
        "! gdown 17qOqOfZTX4sdyqbDS_56PMBOxlXED7-Q\n",
        "! mv augustus.whole.gff /content/data"
      ],
      "metadata": {
        "id": "RSZkOvGOWM44"
      },
      "id": "RSZkOvGOWM44",
      "execution_count": null,
      "outputs": []
    },
    {
      "cell_type": "code",
      "source": [
        "! wget http://augustus.gobics.de/binaries/scripts/getAnnoFasta.pl"
      ],
      "metadata": {
        "colab": {
          "base_uri": "https://localhost:8080/"
        },
        "id": "uoEOY_NkXx09",
        "outputId": "8ccd0b5a-26dd-4c78-8ff6-f07b70b1b27f"
      },
      "id": "uoEOY_NkXx09",
      "execution_count": null,
      "outputs": [
        {
          "output_type": "stream",
          "name": "stdout",
          "text": [
            "--2022-12-06 21:37:21--  http://augustus.gobics.de/binaries/scripts/getAnnoFasta.pl\n",
            "Resolving augustus.gobics.de (augustus.gobics.de)... 134.76.74.142\n",
            "Connecting to augustus.gobics.de (augustus.gobics.de)|134.76.74.142|:80... connected.\n",
            "HTTP request sent, awaiting response... 200 OK\n",
            "Length: 6679 (6.5K) [text/x-perl]\n",
            "Saving to: ‘getAnnoFasta.pl’\n",
            "\n",
            "getAnnoFasta.pl     100%[===================>]   6.52K  --.-KB/s    in 0s      \n",
            "\n",
            "2022-12-06 21:37:21 (187 MB/s) - ‘getAnnoFasta.pl’ saved [6679/6679]\n",
            "\n"
          ]
        }
      ]
    },
    {
      "cell_type": "code",
      "execution_count": null,
      "id": "8f182b8e",
      "metadata": {
        "id": "8f182b8e",
        "outputId": "01002394-bbdb-498b-9a22-47eda33a4763"
      },
      "outputs": [
        {
          "name": "stdout",
          "output_type": "stream",
          "text": [
            ".:\r\n",
            "total 48K\r\n",
            "drwxrwxr-x 2 nikitos nikitos 4,0K дек  5 18:27 \u001b[0m\u001b[01;34mdata\u001b[0m/\r\n",
            "-rw-rw-r-- 1 nikitos nikitos 6,6K дек  5 18:27 getAnnoFasta.pl\r\n",
            "-rw-rw-r-- 1 nikitos nikitos  33K дек  5 18:33 Lab_Notebook.ipynb\r\n",
            "\r\n",
            "./data:\r\n",
            "total 81M\r\n",
            "-rw-rw-r-- 1 nikitos nikitos 27M дек  5 18:21 augustus.whole.gff\r\n",
            "-rw-rw-r-- 1 nikitos nikitos 54M янв 12  2017 Ramazzottius_varieornatus.fna\r\n"
          ]
        }
      ],
      "source": [
        "! ls -lhR"
      ]
    },
    {
      "cell_type": "code",
      "execution_count": null,
      "id": "a0a0ebbb",
      "metadata": {
        "id": "a0a0ebbb"
      },
      "outputs": [],
      "source": [
        "! chmod +x getAnnoFasta.pl"
      ]
    },
    {
      "cell_type": "code",
      "execution_count": null,
      "id": "8e739bc1",
      "metadata": {
        "id": "8e739bc1"
      },
      "outputs": [],
      "source": [
        "! mkdir annotation"
      ]
    },
    {
      "cell_type": "code",
      "execution_count": null,
      "id": "97cda1bd",
      "metadata": {
        "id": "97cda1bd"
      },
      "outputs": [],
      "source": [
        "! ./getAnnoFasta.pl data/augustus.whole.gff\n",
        "! mv data/augustus.whole.aa annotation/"
      ]
    },
    {
      "cell_type": "code",
      "execution_count": null,
      "id": "51373281",
      "metadata": {
        "id": "51373281",
        "outputId": "36ecc458-a590-4ec5-b2c7-f0ef3f0c1136",
        "colab": {
          "base_uri": "https://localhost:8080/"
        }
      },
      "outputs": [
        {
          "output_type": "stream",
          "name": "stdout",
          "text": [
            "16435\n"
          ]
        }
      ],
      "source": [
        "show_file_content(\"annotation/augustus.whole.aa\")\n",
        "count_seqs(\"annotation/augustus.whole.aa\")"
      ]
    },
    {
      "cell_type": "markdown",
      "source": [
        "## Physical localization"
      ],
      "metadata": {
        "id": "rEKUwDQ2YqJB"
      },
      "id": "rEKUwDQ2YqJB"
    },
    {
      "cell_type": "code",
      "execution_count": null,
      "id": "497d3541",
      "metadata": {
        "id": "497d3541"
      },
      "outputs": [],
      "source": [
        "! gdown 1fdygieAACE0VBCddh7TwJw6PfYT8DeUV \n",
        "# how can i direct upload my data into a folder in one line of code?\n",
        "! mv peptides.fa /content/data"
      ]
    },
    {
      "cell_type": "code",
      "execution_count": null,
      "id": "4b7714d6",
      "metadata": {
        "id": "4b7714d6",
        "colab": {
          "base_uri": "https://localhost:8080/"
        },
        "outputId": "ad984681-db45-4512-b9db-265cb5361ed1"
      },
      "outputs": [
        {
          "output_type": "stream",
          "name": "stdout",
          "text": [
            ">1\n",
            "VFSALDVLR\n",
            ">2\n",
            "SPLQTDEIR\n",
            ">3\n",
            "AATGAVLSSADSR\n",
            ">4\n",
            "LLDDENDYELK\n",
            ">5\n",
            "VTGSSQGAINQQQAK\n"
          ]
        }
      ],
      "source": [
        "show_file_content(\"data/dna_associated_peptides.fa\", lines=6)\n",
        "count_seqs(\"data/dna_associated_peptides.fa\")"
      ]
    },
    {
      "cell_type": "code",
      "execution_count": null,
      "id": "fe4159ed",
      "metadata": {
        "id": "fe4159ed",
        "colab": {
          "base_uri": "https://localhost:8080/",
          "height": 34
        },
        "outputId": "2c0a85fc-6f5e-46c5-90fb-28492119d8ac"
      },
      "outputs": [
        {
          "output_type": "execute_result",
          "data": {
            "text/plain": [
              "''"
            ],
            "application/vnd.google.colaboratory.intrinsic+json": {
              "type": "string"
            }
          },
          "metadata": {},
          "execution_count": 36
        }
      ],
      "source": [
        "with open('annotation/augustus.whole.aa') as overall:\n",
        "  overall = overall.read()\n",
        "\n",
        "val, key, dick = [], 'remove', {}\n",
        "\n",
        "for i in overall.split():\n",
        "  if i.startswith('>'):\n",
        "    dick[key] = ''.join(val)\n",
        "    key, val = i, []\n",
        "  else:\n",
        "    val.append(i.strip())\n",
        "    \n",
        "dick[key] = ''.join(val)\n",
        "dick.pop('remove')\n",
        "\n",
        "\"\"\"\n",
        "proteins = []\n",
        "\n",
        "with open('annotation/augustus.whole.aa', 'r') as f_in:\n",
        "  for line in f_in:\n",
        "    line = line.strip()\n",
        "    if line.startswith('>'):\n",
        "      proteins.append((line[1:], []))\n",
        "    elif line:\n",
        "      proteins[-1][1].append(line)\n",
        "  \n",
        "  for protein in proteins:\n",
        "    protein[1] = ''.join(protein[1])\n",
        "\n",
        "proteins # or dict(proteins)\n",
        "\"\"\""
      ]
    },
    {
      "cell_type": "code",
      "source": [
        "import re\n",
        "with open('data/peptides.fa') as numbers:\n",
        "  numbers = numbers.read()\n",
        "\n",
        "reads = re.split('>.+', numbers)[1:]\n",
        "reads = [i.split()[0] for i in reads]"
      ],
      "metadata": {
        "id": "zew1rod4gzPW"
      },
      "id": "zew1rod4gzPW",
      "execution_count": null,
      "outputs": []
    },
    {
      "cell_type": "code",
      "source": [
        "import pandas as pd\n",
        "orig = pd.DataFrame.from_dict({'names': dick.keys(),\n",
        "                               'org': dick.values()})\n",
        "orig.head()"
      ],
      "metadata": {
        "colab": {
          "base_uri": "https://localhost:8080/",
          "height": 201
        },
        "id": "IbEg3XgyifLZ",
        "outputId": "79ff8623-7dd8-449d-fe9a-1792c8d52748"
      },
      "id": "IbEg3XgyifLZ",
      "execution_count": null,
      "outputs": [
        {
          "output_type": "execute_result",
          "data": {
            "text/plain": [
              "    names                                                org\n",
              "0  >g1.t1  AATYSKHPRSYRENIVVWRICMGHCDGRYLALYNLNGWSERDMIDR...\n",
              "1  >g2.t1  MTFAVTVATTSQSCAIAFDVFWLTTIKLFFIAKYFGSEFTPFDKVQ...\n",
              "2  >g3.t1  MLDKAKLVLLNKGGRPSIRSAEDGWKVFSDSLLCRASSDGRVFIGK...\n",
              "3  >g4.t1  MFSKNADSYKLDDNRLSGQTIYRTNPTQQEVKWERMKDTLKARRSR...\n",
              "4  >g5.t1  MRSLGIRQRQLSFQEYEGERNELKERHGFGETILPNGDRYRGYYEH..."
            ],
            "text/html": [
              "\n",
              "  <div id=\"df-cb707355-5a83-4d31-8efc-13e37ce2dd61\">\n",
              "    <div class=\"colab-df-container\">\n",
              "      <div>\n",
              "<style scoped>\n",
              "    .dataframe tbody tr th:only-of-type {\n",
              "        vertical-align: middle;\n",
              "    }\n",
              "\n",
              "    .dataframe tbody tr th {\n",
              "        vertical-align: top;\n",
              "    }\n",
              "\n",
              "    .dataframe thead th {\n",
              "        text-align: right;\n",
              "    }\n",
              "</style>\n",
              "<table border=\"1\" class=\"dataframe\">\n",
              "  <thead>\n",
              "    <tr style=\"text-align: right;\">\n",
              "      <th></th>\n",
              "      <th>names</th>\n",
              "      <th>org</th>\n",
              "    </tr>\n",
              "  </thead>\n",
              "  <tbody>\n",
              "    <tr>\n",
              "      <th>0</th>\n",
              "      <td>&gt;g1.t1</td>\n",
              "      <td>AATYSKHPRSYRENIVVWRICMGHCDGRYLALYNLNGWSERDMIDR...</td>\n",
              "    </tr>\n",
              "    <tr>\n",
              "      <th>1</th>\n",
              "      <td>&gt;g2.t1</td>\n",
              "      <td>MTFAVTVATTSQSCAIAFDVFWLTTIKLFFIAKYFGSEFTPFDKVQ...</td>\n",
              "    </tr>\n",
              "    <tr>\n",
              "      <th>2</th>\n",
              "      <td>&gt;g3.t1</td>\n",
              "      <td>MLDKAKLVLLNKGGRPSIRSAEDGWKVFSDSLLCRASSDGRVFIGK...</td>\n",
              "    </tr>\n",
              "    <tr>\n",
              "      <th>3</th>\n",
              "      <td>&gt;g4.t1</td>\n",
              "      <td>MFSKNADSYKLDDNRLSGQTIYRTNPTQQEVKWERMKDTLKARRSR...</td>\n",
              "    </tr>\n",
              "    <tr>\n",
              "      <th>4</th>\n",
              "      <td>&gt;g5.t1</td>\n",
              "      <td>MRSLGIRQRQLSFQEYEGERNELKERHGFGETILPNGDRYRGYYEH...</td>\n",
              "    </tr>\n",
              "  </tbody>\n",
              "</table>\n",
              "</div>\n",
              "      <button class=\"colab-df-convert\" onclick=\"convertToInteractive('df-cb707355-5a83-4d31-8efc-13e37ce2dd61')\"\n",
              "              title=\"Convert this dataframe to an interactive table.\"\n",
              "              style=\"display:none;\">\n",
              "        \n",
              "  <svg xmlns=\"http://www.w3.org/2000/svg\" height=\"24px\"viewBox=\"0 0 24 24\"\n",
              "       width=\"24px\">\n",
              "    <path d=\"M0 0h24v24H0V0z\" fill=\"none\"/>\n",
              "    <path d=\"M18.56 5.44l.94 2.06.94-2.06 2.06-.94-2.06-.94-.94-2.06-.94 2.06-2.06.94zm-11 1L8.5 8.5l.94-2.06 2.06-.94-2.06-.94L8.5 2.5l-.94 2.06-2.06.94zm10 10l.94 2.06.94-2.06 2.06-.94-2.06-.94-.94-2.06-.94 2.06-2.06.94z\"/><path d=\"M17.41 7.96l-1.37-1.37c-.4-.4-.92-.59-1.43-.59-.52 0-1.04.2-1.43.59L10.3 9.45l-7.72 7.72c-.78.78-.78 2.05 0 2.83L4 21.41c.39.39.9.59 1.41.59.51 0 1.02-.2 1.41-.59l7.78-7.78 2.81-2.81c.8-.78.8-2.07 0-2.86zM5.41 20L4 18.59l7.72-7.72 1.47 1.35L5.41 20z\"/>\n",
              "  </svg>\n",
              "      </button>\n",
              "      \n",
              "  <style>\n",
              "    .colab-df-container {\n",
              "      display:flex;\n",
              "      flex-wrap:wrap;\n",
              "      gap: 12px;\n",
              "    }\n",
              "\n",
              "    .colab-df-convert {\n",
              "      background-color: #E8F0FE;\n",
              "      border: none;\n",
              "      border-radius: 50%;\n",
              "      cursor: pointer;\n",
              "      display: none;\n",
              "      fill: #1967D2;\n",
              "      height: 32px;\n",
              "      padding: 0 0 0 0;\n",
              "      width: 32px;\n",
              "    }\n",
              "\n",
              "    .colab-df-convert:hover {\n",
              "      background-color: #E2EBFA;\n",
              "      box-shadow: 0px 1px 2px rgba(60, 64, 67, 0.3), 0px 1px 3px 1px rgba(60, 64, 67, 0.15);\n",
              "      fill: #174EA6;\n",
              "    }\n",
              "\n",
              "    [theme=dark] .colab-df-convert {\n",
              "      background-color: #3B4455;\n",
              "      fill: #D2E3FC;\n",
              "    }\n",
              "\n",
              "    [theme=dark] .colab-df-convert:hover {\n",
              "      background-color: #434B5C;\n",
              "      box-shadow: 0px 1px 3px 1px rgba(0, 0, 0, 0.15);\n",
              "      filter: drop-shadow(0px 1px 2px rgba(0, 0, 0, 0.3));\n",
              "      fill: #FFFFFF;\n",
              "    }\n",
              "  </style>\n",
              "\n",
              "      <script>\n",
              "        const buttonEl =\n",
              "          document.querySelector('#df-cb707355-5a83-4d31-8efc-13e37ce2dd61 button.colab-df-convert');\n",
              "        buttonEl.style.display =\n",
              "          google.colab.kernel.accessAllowed ? 'block' : 'none';\n",
              "\n",
              "        async function convertToInteractive(key) {\n",
              "          const element = document.querySelector('#df-cb707355-5a83-4d31-8efc-13e37ce2dd61');\n",
              "          const dataTable =\n",
              "            await google.colab.kernel.invokeFunction('convertToInteractive',\n",
              "                                                     [key], {});\n",
              "          if (!dataTable) return;\n",
              "\n",
              "          const docLinkHtml = 'Like what you see? Visit the ' +\n",
              "            '<a target=\"_blank\" href=https://colab.research.google.com/notebooks/data_table.ipynb>data table notebook</a>'\n",
              "            + ' to learn more about interactive tables.';\n",
              "          element.innerHTML = '';\n",
              "          dataTable['output_type'] = 'display_data';\n",
              "          await google.colab.output.renderOutput(dataTable, element);\n",
              "          const docLink = document.createElement('div');\n",
              "          docLink.innerHTML = docLinkHtml;\n",
              "          element.appendChild(docLink);\n",
              "        }\n",
              "      </script>\n",
              "    </div>\n",
              "  </div>\n",
              "  "
            ]
          },
          "metadata": {},
          "execution_count": 54
        }
      ]
    },
    {
      "cell_type": "code",
      "source": [
        "ours = pd.DataFrame(data={'our': reads})\n",
        "ours.head()"
      ],
      "metadata": {
        "colab": {
          "base_uri": "https://localhost:8080/",
          "height": 201
        },
        "id": "Qk_2yHv5fNjT",
        "outputId": "850fe132-4c17-4de7-f895-90cd6b9abc00"
      },
      "id": "Qk_2yHv5fNjT",
      "execution_count": null,
      "outputs": [
        {
          "output_type": "execute_result",
          "data": {
            "text/plain": [
              "               our\n",
              "0        VFSALDVLR\n",
              "1        SPLQTDEIR\n",
              "2    AATGAVLSSADSR\n",
              "3      LLDDENDYELK\n",
              "4  VTGSSQGAINQQQAK"
            ],
            "text/html": [
              "\n",
              "  <div id=\"df-bb29af9d-56d6-4a62-a7f8-abbc348f0057\">\n",
              "    <div class=\"colab-df-container\">\n",
              "      <div>\n",
              "<style scoped>\n",
              "    .dataframe tbody tr th:only-of-type {\n",
              "        vertical-align: middle;\n",
              "    }\n",
              "\n",
              "    .dataframe tbody tr th {\n",
              "        vertical-align: top;\n",
              "    }\n",
              "\n",
              "    .dataframe thead th {\n",
              "        text-align: right;\n",
              "    }\n",
              "</style>\n",
              "<table border=\"1\" class=\"dataframe\">\n",
              "  <thead>\n",
              "    <tr style=\"text-align: right;\">\n",
              "      <th></th>\n",
              "      <th>our</th>\n",
              "    </tr>\n",
              "  </thead>\n",
              "  <tbody>\n",
              "    <tr>\n",
              "      <th>0</th>\n",
              "      <td>VFSALDVLR</td>\n",
              "    </tr>\n",
              "    <tr>\n",
              "      <th>1</th>\n",
              "      <td>SPLQTDEIR</td>\n",
              "    </tr>\n",
              "    <tr>\n",
              "      <th>2</th>\n",
              "      <td>AATGAVLSSADSR</td>\n",
              "    </tr>\n",
              "    <tr>\n",
              "      <th>3</th>\n",
              "      <td>LLDDENDYELK</td>\n",
              "    </tr>\n",
              "    <tr>\n",
              "      <th>4</th>\n",
              "      <td>VTGSSQGAINQQQAK</td>\n",
              "    </tr>\n",
              "  </tbody>\n",
              "</table>\n",
              "</div>\n",
              "      <button class=\"colab-df-convert\" onclick=\"convertToInteractive('df-bb29af9d-56d6-4a62-a7f8-abbc348f0057')\"\n",
              "              title=\"Convert this dataframe to an interactive table.\"\n",
              "              style=\"display:none;\">\n",
              "        \n",
              "  <svg xmlns=\"http://www.w3.org/2000/svg\" height=\"24px\"viewBox=\"0 0 24 24\"\n",
              "       width=\"24px\">\n",
              "    <path d=\"M0 0h24v24H0V0z\" fill=\"none\"/>\n",
              "    <path d=\"M18.56 5.44l.94 2.06.94-2.06 2.06-.94-2.06-.94-.94-2.06-.94 2.06-2.06.94zm-11 1L8.5 8.5l.94-2.06 2.06-.94-2.06-.94L8.5 2.5l-.94 2.06-2.06.94zm10 10l.94 2.06.94-2.06 2.06-.94-2.06-.94-.94-2.06-.94 2.06-2.06.94z\"/><path d=\"M17.41 7.96l-1.37-1.37c-.4-.4-.92-.59-1.43-.59-.52 0-1.04.2-1.43.59L10.3 9.45l-7.72 7.72c-.78.78-.78 2.05 0 2.83L4 21.41c.39.39.9.59 1.41.59.51 0 1.02-.2 1.41-.59l7.78-7.78 2.81-2.81c.8-.78.8-2.07 0-2.86zM5.41 20L4 18.59l7.72-7.72 1.47 1.35L5.41 20z\"/>\n",
              "  </svg>\n",
              "      </button>\n",
              "      \n",
              "  <style>\n",
              "    .colab-df-container {\n",
              "      display:flex;\n",
              "      flex-wrap:wrap;\n",
              "      gap: 12px;\n",
              "    }\n",
              "\n",
              "    .colab-df-convert {\n",
              "      background-color: #E8F0FE;\n",
              "      border: none;\n",
              "      border-radius: 50%;\n",
              "      cursor: pointer;\n",
              "      display: none;\n",
              "      fill: #1967D2;\n",
              "      height: 32px;\n",
              "      padding: 0 0 0 0;\n",
              "      width: 32px;\n",
              "    }\n",
              "\n",
              "    .colab-df-convert:hover {\n",
              "      background-color: #E2EBFA;\n",
              "      box-shadow: 0px 1px 2px rgba(60, 64, 67, 0.3), 0px 1px 3px 1px rgba(60, 64, 67, 0.15);\n",
              "      fill: #174EA6;\n",
              "    }\n",
              "\n",
              "    [theme=dark] .colab-df-convert {\n",
              "      background-color: #3B4455;\n",
              "      fill: #D2E3FC;\n",
              "    }\n",
              "\n",
              "    [theme=dark] .colab-df-convert:hover {\n",
              "      background-color: #434B5C;\n",
              "      box-shadow: 0px 1px 3px 1px rgba(0, 0, 0, 0.15);\n",
              "      filter: drop-shadow(0px 1px 2px rgba(0, 0, 0, 0.3));\n",
              "      fill: #FFFFFF;\n",
              "    }\n",
              "  </style>\n",
              "\n",
              "      <script>\n",
              "        const buttonEl =\n",
              "          document.querySelector('#df-bb29af9d-56d6-4a62-a7f8-abbc348f0057 button.colab-df-convert');\n",
              "        buttonEl.style.display =\n",
              "          google.colab.kernel.accessAllowed ? 'block' : 'none';\n",
              "\n",
              "        async function convertToInteractive(key) {\n",
              "          const element = document.querySelector('#df-bb29af9d-56d6-4a62-a7f8-abbc348f0057');\n",
              "          const dataTable =\n",
              "            await google.colab.kernel.invokeFunction('convertToInteractive',\n",
              "                                                     [key], {});\n",
              "          if (!dataTable) return;\n",
              "\n",
              "          const docLinkHtml = 'Like what you see? Visit the ' +\n",
              "            '<a target=\"_blank\" href=https://colab.research.google.com/notebooks/data_table.ipynb>data table notebook</a>'\n",
              "            + ' to learn more about interactive tables.';\n",
              "          element.innerHTML = '';\n",
              "          dataTable['output_type'] = 'display_data';\n",
              "          await google.colab.output.renderOutput(dataTable, element);\n",
              "          const docLink = document.createElement('div');\n",
              "          docLink.innerHTML = docLinkHtml;\n",
              "          element.appendChild(docLink);\n",
              "        }\n",
              "      </script>\n",
              "    </div>\n",
              "  </div>\n",
              "  "
            ]
          },
          "metadata": {},
          "execution_count": 55
        }
      ]
    },
    {
      "cell_type": "code",
      "source": [
        "print(len(orig), len(ours), len(orig) * len(ours))"
      ],
      "metadata": {
        "colab": {
          "base_uri": "https://localhost:8080/"
        },
        "id": "qgKj2LwGnJ3y",
        "outputId": "19dd382f-5e26-4f1e-e300-4b50cce7526c"
      },
      "id": "qgKj2LwGnJ3y",
      "execution_count": null,
      "outputs": [
        {
          "output_type": "stream",
          "name": "stdout",
          "text": [
            "16435 43 706705\n"
          ]
        }
      ]
    },
    {
      "cell_type": "code",
      "execution_count": null,
      "id": "aba26ff1",
      "metadata": {
        "id": "aba26ff1"
      },
      "outputs": [],
      "source": [
        "a = orig.merge(ours, how='cross')"
      ]
    },
    {
      "cell_type": "code",
      "source": [
        "a.columns"
      ],
      "metadata": {
        "colab": {
          "base_uri": "https://localhost:8080/"
        },
        "id": "pDLuxdBDnmwB",
        "outputId": "276d3c39-f6de-4741-b4aa-c5578ced6f17"
      },
      "id": "pDLuxdBDnmwB",
      "execution_count": null,
      "outputs": [
        {
          "output_type": "execute_result",
          "data": {
            "text/plain": [
              "Index(['names', 'org', 'our'], dtype='object')"
            ]
          },
          "metadata": {},
          "execution_count": 58
        }
      ]
    },
    {
      "cell_type": "code",
      "execution_count": null,
      "id": "98076cf9",
      "metadata": {
        "id": "98076cf9",
        "colab": {
          "base_uri": "https://localhost:8080/",
          "height": 411
        },
        "outputId": "54174945-9784-4d48-fd59-bcef2e5d48db"
      },
      "outputs": [
        {
          "output_type": "execute_result",
          "data": {
            "text/plain": [
              "             names                                                org  \\\n",
              "30160     >g702.t1  MKCLIVFSAFVASALAANGDQQPKVWDALNVLRGKDALFADQIQEL...   \n",
              "30177     >g702.t1  MKCLIVFSAFVASALAANGDQQPKVWDALNVLRGKDALFADQIQEL...   \n",
              "30178     >g702.t1  MKCLIVFSAFVASALAANGDQQPKVWDALNVLRGKDALFADQIQEL...   \n",
              "55235    >g1285.t1  MKGLIVVLGLVTVASATSLYRIRRANGDQQPKVWDALNKLRGKDPI...   \n",
              "55239    >g1285.t1  MKGLIVVLGLVTVASATSLYRIRRANGDQQPKVWDALNKLRGKDPI...   \n",
              "...            ...                                                ...   \n",
              "651563  >g15153.t1  MKCLVVLSALVAVAYAANGDQNPKVFSALDVLRGKTPLQTDQIREI...   \n",
              "651575  >g15153.t1  MKCLVVLSALVAVAYAANGDQNPKVFSALDVLRGKTPLQTDQIREI...   \n",
              "665800  >g15484.t1  MAHSNNPLDLNGTSFDPDQYLRKVLTEEALPDLIEHEIEMQQQIKS...   \n",
              "665801  >g15484.t1  MAHSNNPLDLNGTSFDPDQYLRKVLTEEALPDLIEHEIEMQQQIKS...   \n",
              "665802  >g15484.t1  MAHSNNPLDLNGTSFDPDQYLRKVLTEEALPDLIEHEIEMQQQIKS...   \n",
              "\n",
              "                       our  \n",
              "30160    SSSSSSQESQSSSSQVR  \n",
              "30177          VVEQTGASSSR  \n",
              "30178    SSSSSSQESQSSSSQVR  \n",
              "55235            QFQDYSNSR  \n",
              "55239            QFQDYSNSR  \n",
              "...                    ...  \n",
              "651563           QFQDYSNSR  \n",
              "651575           QFQDYSNSR  \n",
              "665800          SGEQAMVDAK  \n",
              "665801        SSTTTSTMNAAK  \n",
              "665802  TTTTTGTTGTSGTTMPPK  \n",
              "\n",
              "[62 rows x 3 columns]"
            ],
            "text/html": [
              "\n",
              "  <div id=\"df-e22f9538-530e-4052-a13b-e0aaae2c4895\">\n",
              "    <div class=\"colab-df-container\">\n",
              "      <div>\n",
              "<style scoped>\n",
              "    .dataframe tbody tr th:only-of-type {\n",
              "        vertical-align: middle;\n",
              "    }\n",
              "\n",
              "    .dataframe tbody tr th {\n",
              "        vertical-align: top;\n",
              "    }\n",
              "\n",
              "    .dataframe thead th {\n",
              "        text-align: right;\n",
              "    }\n",
              "</style>\n",
              "<table border=\"1\" class=\"dataframe\">\n",
              "  <thead>\n",
              "    <tr style=\"text-align: right;\">\n",
              "      <th></th>\n",
              "      <th>names</th>\n",
              "      <th>org</th>\n",
              "      <th>our</th>\n",
              "    </tr>\n",
              "  </thead>\n",
              "  <tbody>\n",
              "    <tr>\n",
              "      <th>30160</th>\n",
              "      <td>&gt;g702.t1</td>\n",
              "      <td>MKCLIVFSAFVASALAANGDQQPKVWDALNVLRGKDALFADQIQEL...</td>\n",
              "      <td>SSSSSSQESQSSSSQVR</td>\n",
              "    </tr>\n",
              "    <tr>\n",
              "      <th>30177</th>\n",
              "      <td>&gt;g702.t1</td>\n",
              "      <td>MKCLIVFSAFVASALAANGDQQPKVWDALNVLRGKDALFADQIQEL...</td>\n",
              "      <td>VVEQTGASSSR</td>\n",
              "    </tr>\n",
              "    <tr>\n",
              "      <th>30178</th>\n",
              "      <td>&gt;g702.t1</td>\n",
              "      <td>MKCLIVFSAFVASALAANGDQQPKVWDALNVLRGKDALFADQIQEL...</td>\n",
              "      <td>SSSSSSQESQSSSSQVR</td>\n",
              "    </tr>\n",
              "    <tr>\n",
              "      <th>55235</th>\n",
              "      <td>&gt;g1285.t1</td>\n",
              "      <td>MKGLIVVLGLVTVASATSLYRIRRANGDQQPKVWDALNKLRGKDPI...</td>\n",
              "      <td>QFQDYSNSR</td>\n",
              "    </tr>\n",
              "    <tr>\n",
              "      <th>55239</th>\n",
              "      <td>&gt;g1285.t1</td>\n",
              "      <td>MKGLIVVLGLVTVASATSLYRIRRANGDQQPKVWDALNKLRGKDPI...</td>\n",
              "      <td>QFQDYSNSR</td>\n",
              "    </tr>\n",
              "    <tr>\n",
              "      <th>...</th>\n",
              "      <td>...</td>\n",
              "      <td>...</td>\n",
              "      <td>...</td>\n",
              "    </tr>\n",
              "    <tr>\n",
              "      <th>651563</th>\n",
              "      <td>&gt;g15153.t1</td>\n",
              "      <td>MKCLVVLSALVAVAYAANGDQNPKVFSALDVLRGKTPLQTDQIREI...</td>\n",
              "      <td>QFQDYSNSR</td>\n",
              "    </tr>\n",
              "    <tr>\n",
              "      <th>651575</th>\n",
              "      <td>&gt;g15153.t1</td>\n",
              "      <td>MKCLVVLSALVAVAYAANGDQNPKVFSALDVLRGKTPLQTDQIREI...</td>\n",
              "      <td>QFQDYSNSR</td>\n",
              "    </tr>\n",
              "    <tr>\n",
              "      <th>665800</th>\n",
              "      <td>&gt;g15484.t1</td>\n",
              "      <td>MAHSNNPLDLNGTSFDPDQYLRKVLTEEALPDLIEHEIEMQQQIKS...</td>\n",
              "      <td>SGEQAMVDAK</td>\n",
              "    </tr>\n",
              "    <tr>\n",
              "      <th>665801</th>\n",
              "      <td>&gt;g15484.t1</td>\n",
              "      <td>MAHSNNPLDLNGTSFDPDQYLRKVLTEEALPDLIEHEIEMQQQIKS...</td>\n",
              "      <td>SSTTTSTMNAAK</td>\n",
              "    </tr>\n",
              "    <tr>\n",
              "      <th>665802</th>\n",
              "      <td>&gt;g15484.t1</td>\n",
              "      <td>MAHSNNPLDLNGTSFDPDQYLRKVLTEEALPDLIEHEIEMQQQIKS...</td>\n",
              "      <td>TTTTTGTTGTSGTTMPPK</td>\n",
              "    </tr>\n",
              "  </tbody>\n",
              "</table>\n",
              "<p>62 rows × 3 columns</p>\n",
              "</div>\n",
              "      <button class=\"colab-df-convert\" onclick=\"convertToInteractive('df-e22f9538-530e-4052-a13b-e0aaae2c4895')\"\n",
              "              title=\"Convert this dataframe to an interactive table.\"\n",
              "              style=\"display:none;\">\n",
              "        \n",
              "  <svg xmlns=\"http://www.w3.org/2000/svg\" height=\"24px\"viewBox=\"0 0 24 24\"\n",
              "       width=\"24px\">\n",
              "    <path d=\"M0 0h24v24H0V0z\" fill=\"none\"/>\n",
              "    <path d=\"M18.56 5.44l.94 2.06.94-2.06 2.06-.94-2.06-.94-.94-2.06-.94 2.06-2.06.94zm-11 1L8.5 8.5l.94-2.06 2.06-.94-2.06-.94L8.5 2.5l-.94 2.06-2.06.94zm10 10l.94 2.06.94-2.06 2.06-.94-2.06-.94-.94-2.06-.94 2.06-2.06.94z\"/><path d=\"M17.41 7.96l-1.37-1.37c-.4-.4-.92-.59-1.43-.59-.52 0-1.04.2-1.43.59L10.3 9.45l-7.72 7.72c-.78.78-.78 2.05 0 2.83L4 21.41c.39.39.9.59 1.41.59.51 0 1.02-.2 1.41-.59l7.78-7.78 2.81-2.81c.8-.78.8-2.07 0-2.86zM5.41 20L4 18.59l7.72-7.72 1.47 1.35L5.41 20z\"/>\n",
              "  </svg>\n",
              "      </button>\n",
              "      \n",
              "  <style>\n",
              "    .colab-df-container {\n",
              "      display:flex;\n",
              "      flex-wrap:wrap;\n",
              "      gap: 12px;\n",
              "    }\n",
              "\n",
              "    .colab-df-convert {\n",
              "      background-color: #E8F0FE;\n",
              "      border: none;\n",
              "      border-radius: 50%;\n",
              "      cursor: pointer;\n",
              "      display: none;\n",
              "      fill: #1967D2;\n",
              "      height: 32px;\n",
              "      padding: 0 0 0 0;\n",
              "      width: 32px;\n",
              "    }\n",
              "\n",
              "    .colab-df-convert:hover {\n",
              "      background-color: #E2EBFA;\n",
              "      box-shadow: 0px 1px 2px rgba(60, 64, 67, 0.3), 0px 1px 3px 1px rgba(60, 64, 67, 0.15);\n",
              "      fill: #174EA6;\n",
              "    }\n",
              "\n",
              "    [theme=dark] .colab-df-convert {\n",
              "      background-color: #3B4455;\n",
              "      fill: #D2E3FC;\n",
              "    }\n",
              "\n",
              "    [theme=dark] .colab-df-convert:hover {\n",
              "      background-color: #434B5C;\n",
              "      box-shadow: 0px 1px 3px 1px rgba(0, 0, 0, 0.15);\n",
              "      filter: drop-shadow(0px 1px 2px rgba(0, 0, 0, 0.3));\n",
              "      fill: #FFFFFF;\n",
              "    }\n",
              "  </style>\n",
              "\n",
              "      <script>\n",
              "        const buttonEl =\n",
              "          document.querySelector('#df-e22f9538-530e-4052-a13b-e0aaae2c4895 button.colab-df-convert');\n",
              "        buttonEl.style.display =\n",
              "          google.colab.kernel.accessAllowed ? 'block' : 'none';\n",
              "\n",
              "        async function convertToInteractive(key) {\n",
              "          const element = document.querySelector('#df-e22f9538-530e-4052-a13b-e0aaae2c4895');\n",
              "          const dataTable =\n",
              "            await google.colab.kernel.invokeFunction('convertToInteractive',\n",
              "                                                     [key], {});\n",
              "          if (!dataTable) return;\n",
              "\n",
              "          const docLinkHtml = 'Like what you see? Visit the ' +\n",
              "            '<a target=\"_blank\" href=https://colab.research.google.com/notebooks/data_table.ipynb>data table notebook</a>'\n",
              "            + ' to learn more about interactive tables.';\n",
              "          element.innerHTML = '';\n",
              "          dataTable['output_type'] = 'display_data';\n",
              "          await google.colab.output.renderOutput(dataTable, element);\n",
              "          const docLink = document.createElement('div');\n",
              "          docLink.innerHTML = docLinkHtml;\n",
              "          element.appendChild(docLink);\n",
              "        }\n",
              "      </script>\n",
              "    </div>\n",
              "  </div>\n",
              "  "
            ]
          },
          "metadata": {},
          "execution_count": 65
        }
      ],
      "source": [
        "a = a[a[['org','our']].apply(lambda x: x[1] in x[0], axis=1)]\n",
        "a"
      ]
    },
    {
      "cell_type": "markdown",
      "source": [
        "## Localization prediction"
      ],
      "metadata": {
        "id": "aca-ZC2Mot_F"
      },
      "id": "aca-ZC2Mot_F"
    },
    {
      "cell_type": "markdown",
      "source": [
        "### 4a. WoLF PSORT"
      ],
      "metadata": {
        "id": "5dum_pDBrQlz"
      },
      "id": "5dum_pDBrQlz"
    },
    {
      "cell_type": "code",
      "source": [
        "with open('found_proteins.fasta', 'w') as found:\n",
        "  for i in range(len(a)):\n",
        "    print(a['names'].iloc[i], file=found)\n",
        "    print(a['org'].iloc[i], file=found)"
      ],
      "metadata": {
        "id": "qaKgBMVHnki1"
      },
      "id": "qaKgBMVHnki1",
      "execution_count": null,
      "outputs": []
    },
    {
      "cell_type": "markdown",
      "source": [
        "just upload this file into Wolf"
      ],
      "metadata": {
        "id": "LHtmed403IxB"
      },
      "id": "LHtmed403IxB"
    },
    {
      "cell_type": "code",
      "source": [
        "! gdown 175jN1SPLp0GmE2Drphdf4F9xlpppmVpz"
      ],
      "metadata": {
        "colab": {
          "base_uri": "https://localhost:8080/"
        },
        "id": "c6YGrrN2nkRN",
        "outputId": "cfa1c5f3-a8ae-48b1-a379-0e83107fa2ec"
      },
      "id": "c6YGrrN2nkRN",
      "execution_count": null,
      "outputs": [
        {
          "output_type": "stream",
          "name": "stdout",
          "text": [
            "Downloading...\n",
            "From: https://drive.google.com/uc?id=175jN1SPLp0GmE2Drphdf4F9xlpppmVpz\n",
            "To: /content/wolf_output.txt\n",
            "\r  0% 0.00/2.90k [00:00<?, ?B/s]\r100% 2.90k/2.90k [00:00<00:00, 4.33MB/s]\n"
          ]
        }
      ]
    },
    {
      "cell_type": "markdown",
      "source": [
        "this is a copypasted output from the first UNDETAILED page"
      ],
      "metadata": {
        "id": "mfeLm7jm6e3G"
      },
      "id": "mfeLm7jm6e3G"
    },
    {
      "cell_type": "code",
      "source": [
        "with open('wolf_output.txt') as wolfout:\n",
        "  wolfout = wolfout.read()"
      ],
      "metadata": {
        "id": "8vl544O3nj_g"
      },
      "id": "8vl544O3nj_g",
      "execution_count": null,
      "outputs": []
    },
    {
      "cell_type": "code",
      "source": [
        "b = wolfout.split(' details ')\n",
        "b_names = [b[0]] + [i.split()[-1] for i in b[1:-1]]\n",
        "b_vals = [''.join(i.split()[:-1]).split(',') for i in b[1:-1]] + [''.join(b[-1].split()).split(',')]\n",
        "comp = set([j.split(':')[0] for i in b_vals for j in i])"
      ],
      "metadata": {
        "id": "JIlFpnKdnjs5"
      },
      "id": "JIlFpnKdnjs5",
      "execution_count": null,
      "outputs": []
    },
    {
      "cell_type": "code",
      "source": [
        "index_x = list(comp)\n",
        "import numpy as np\n",
        "c = np.zeros((len(b_names), len(index_x)))"
      ],
      "metadata": {
        "id": "ucT-cepFnjTQ"
      },
      "id": "ucT-cepFnjTQ",
      "execution_count": null,
      "outputs": []
    },
    {
      "cell_type": "code",
      "source": [
        "for i in range(len(b_names)):\n",
        "  for j in b_vals[i]:\n",
        "    j = j.split(':')\n",
        "    c[i, index_x.index(j[0])] = float(j[1])"
      ],
      "metadata": {
        "id": "mQQkM_Dq04Cz"
      },
      "id": "mQQkM_Dq04Cz",
      "execution_count": null,
      "outputs": []
    },
    {
      "cell_type": "code",
      "source": [
        "pd.DataFrame(c, columns=index_x, index=b_names)#.sum()"
      ],
      "metadata": {
        "colab": {
          "base_uri": "https://localhost:8080/"
        },
        "id": "UPOoaMpO1ivn",
        "outputId": "86d9b86e-f83f-4b9c-e96f-62250d3dd557"
      },
      "id": "UPOoaMpO1ivn",
      "execution_count": null,
      "outputs": [
        {
          "output_type": "execute_result",
          "data": {
            "text/plain": [
              "nucl          154.50000\n",
              "cyto          107.00000\n",
              "cyto_mito      20.49999\n",
              "cyto_nucl      99.49990\n",
              "mito           93.00000\n",
              "lyso           50.00000\n",
              "golg           12.00000\n",
              "extr         1327.00000\n",
              "pero            4.00000\n",
              "E.R._golg      19.00000\n",
              "plas          196.00000\n",
              "E.R.           38.00000\n",
              "cysk            1.00000\n",
              "dtype: float64"
            ]
          },
          "metadata": {},
          "execution_count": 127
        }
      ]
    },
    {
      "cell_type": "markdown",
      "source": [
        "### 4b. TargetP 1.1 Server"
      ],
      "metadata": {
        "id": "fB8x_gqT3O8l"
      },
      "id": "fB8x_gqT3O8l"
    },
    {
      "cell_type": "markdown",
      "source": [
        "Upload the same *.fasta file and download a prediction summary"
      ],
      "metadata": {
        "id": "1oMbg-QK5jkm"
      },
      "id": "1oMbg-QK5jkm"
    },
    {
      "cell_type": "code",
      "source": [
        "! gdown 1tzfqGhYvc-8NRqKEzqCNbwr-GUSh1mdo"
      ],
      "metadata": {
        "colab": {
          "base_uri": "https://localhost:8080/"
        },
        "id": "ZAouWa8Jni-j",
        "outputId": "90ae5515-0e07-4317-8fc9-34c777ce1aa3"
      },
      "id": "ZAouWa8Jni-j",
      "execution_count": null,
      "outputs": [
        {
          "output_type": "stream",
          "name": "stdout",
          "text": [
            "Downloading...\n",
            "From: https://drive.google.com/uc?id=1tzfqGhYvc-8NRqKEzqCNbwr-GUSh1mdo\n",
            "To: /content/output_protein_type.txt\n",
            "\r  0% 0.00/4.05k [00:00<?, ?B/s]\r100% 4.05k/4.05k [00:00<00:00, 6.08MB/s]\n"
          ]
        }
      ]
    },
    {
      "cell_type": "code",
      "source": [
        "pd.read_table('output_protein_type.txt')"
      ],
      "metadata": {
        "colab": {
          "base_uri": "https://localhost:8080/",
          "height": 411
        },
        "id": "v_0LGRpXnioK",
        "outputId": "0184e9b0-57ca-4bab-c261-18b35d8c5eb2"
      },
      "id": "v_0LGRpXnioK",
      "execution_count": null,
      "outputs": [
        {
          "output_type": "execute_result",
          "data": {
            "text/plain": [
              "           ID Prediction     OTHER        SP       mTP  \\\n",
              "0     g702.t1         SP  0.000347  0.999652  0.000001   \n",
              "1     g702.t1         SP  0.000347  0.999652  0.000001   \n",
              "2     g702.t1         SP  0.000347  0.999652  0.000001   \n",
              "3    g1285.t1         SP  0.003029  0.996798  0.000173   \n",
              "4    g1285.t1         SP  0.003029  0.996798  0.000173   \n",
              "..        ...        ...       ...       ...       ...   \n",
              "57  g15153.t1         SP  0.000014  0.999986  0.000000   \n",
              "58  g15153.t1         SP  0.000014  0.999986  0.000000   \n",
              "59  g15484.t1      OTHER  0.999980  0.000010  0.000010   \n",
              "60  g15484.t1      OTHER  0.999980  0.000010  0.000010   \n",
              "61  g15484.t1      OTHER  0.999980  0.000010  0.000010   \n",
              "\n",
              "                          CS Position  \n",
              "0   CS pos: 16-17. ALA-AN. Pr: 0.8153  \n",
              "1   CS pos: 16-17. ALA-AN. Pr: 0.8153  \n",
              "2   CS pos: 16-17. ALA-AN. Pr: 0.8153  \n",
              "3   CS pos: 16-17. ASA-TS. Pr: 0.7127  \n",
              "4   CS pos: 16-17. ASA-TS. Pr: 0.7127  \n",
              "..                                ...  \n",
              "57  CS pos: 16-17. AYA-AN. Pr: 0.8378  \n",
              "58  CS pos: 16-17. AYA-AN. Pr: 0.8378  \n",
              "59                                NaN  \n",
              "60                                NaN  \n",
              "61                                NaN  \n",
              "\n",
              "[62 rows x 6 columns]"
            ],
            "text/html": [
              "\n",
              "  <div id=\"df-b39f2a1e-d3bc-462e-8e62-96b7136a772f\">\n",
              "    <div class=\"colab-df-container\">\n",
              "      <div>\n",
              "<style scoped>\n",
              "    .dataframe tbody tr th:only-of-type {\n",
              "        vertical-align: middle;\n",
              "    }\n",
              "\n",
              "    .dataframe tbody tr th {\n",
              "        vertical-align: top;\n",
              "    }\n",
              "\n",
              "    .dataframe thead th {\n",
              "        text-align: right;\n",
              "    }\n",
              "</style>\n",
              "<table border=\"1\" class=\"dataframe\">\n",
              "  <thead>\n",
              "    <tr style=\"text-align: right;\">\n",
              "      <th></th>\n",
              "      <th>ID</th>\n",
              "      <th>Prediction</th>\n",
              "      <th>OTHER</th>\n",
              "      <th>SP</th>\n",
              "      <th>mTP</th>\n",
              "      <th>CS Position</th>\n",
              "    </tr>\n",
              "  </thead>\n",
              "  <tbody>\n",
              "    <tr>\n",
              "      <th>0</th>\n",
              "      <td>g702.t1</td>\n",
              "      <td>SP</td>\n",
              "      <td>0.000347</td>\n",
              "      <td>0.999652</td>\n",
              "      <td>0.000001</td>\n",
              "      <td>CS pos: 16-17. ALA-AN. Pr: 0.8153</td>\n",
              "    </tr>\n",
              "    <tr>\n",
              "      <th>1</th>\n",
              "      <td>g702.t1</td>\n",
              "      <td>SP</td>\n",
              "      <td>0.000347</td>\n",
              "      <td>0.999652</td>\n",
              "      <td>0.000001</td>\n",
              "      <td>CS pos: 16-17. ALA-AN. Pr: 0.8153</td>\n",
              "    </tr>\n",
              "    <tr>\n",
              "      <th>2</th>\n",
              "      <td>g702.t1</td>\n",
              "      <td>SP</td>\n",
              "      <td>0.000347</td>\n",
              "      <td>0.999652</td>\n",
              "      <td>0.000001</td>\n",
              "      <td>CS pos: 16-17. ALA-AN. Pr: 0.8153</td>\n",
              "    </tr>\n",
              "    <tr>\n",
              "      <th>3</th>\n",
              "      <td>g1285.t1</td>\n",
              "      <td>SP</td>\n",
              "      <td>0.003029</td>\n",
              "      <td>0.996798</td>\n",
              "      <td>0.000173</td>\n",
              "      <td>CS pos: 16-17. ASA-TS. Pr: 0.7127</td>\n",
              "    </tr>\n",
              "    <tr>\n",
              "      <th>4</th>\n",
              "      <td>g1285.t1</td>\n",
              "      <td>SP</td>\n",
              "      <td>0.003029</td>\n",
              "      <td>0.996798</td>\n",
              "      <td>0.000173</td>\n",
              "      <td>CS pos: 16-17. ASA-TS. Pr: 0.7127</td>\n",
              "    </tr>\n",
              "    <tr>\n",
              "      <th>...</th>\n",
              "      <td>...</td>\n",
              "      <td>...</td>\n",
              "      <td>...</td>\n",
              "      <td>...</td>\n",
              "      <td>...</td>\n",
              "      <td>...</td>\n",
              "    </tr>\n",
              "    <tr>\n",
              "      <th>57</th>\n",
              "      <td>g15153.t1</td>\n",
              "      <td>SP</td>\n",
              "      <td>0.000014</td>\n",
              "      <td>0.999986</td>\n",
              "      <td>0.000000</td>\n",
              "      <td>CS pos: 16-17. AYA-AN. Pr: 0.8378</td>\n",
              "    </tr>\n",
              "    <tr>\n",
              "      <th>58</th>\n",
              "      <td>g15153.t1</td>\n",
              "      <td>SP</td>\n",
              "      <td>0.000014</td>\n",
              "      <td>0.999986</td>\n",
              "      <td>0.000000</td>\n",
              "      <td>CS pos: 16-17. AYA-AN. Pr: 0.8378</td>\n",
              "    </tr>\n",
              "    <tr>\n",
              "      <th>59</th>\n",
              "      <td>g15484.t1</td>\n",
              "      <td>OTHER</td>\n",
              "      <td>0.999980</td>\n",
              "      <td>0.000010</td>\n",
              "      <td>0.000010</td>\n",
              "      <td>NaN</td>\n",
              "    </tr>\n",
              "    <tr>\n",
              "      <th>60</th>\n",
              "      <td>g15484.t1</td>\n",
              "      <td>OTHER</td>\n",
              "      <td>0.999980</td>\n",
              "      <td>0.000010</td>\n",
              "      <td>0.000010</td>\n",
              "      <td>NaN</td>\n",
              "    </tr>\n",
              "    <tr>\n",
              "      <th>61</th>\n",
              "      <td>g15484.t1</td>\n",
              "      <td>OTHER</td>\n",
              "      <td>0.999980</td>\n",
              "      <td>0.000010</td>\n",
              "      <td>0.000010</td>\n",
              "      <td>NaN</td>\n",
              "    </tr>\n",
              "  </tbody>\n",
              "</table>\n",
              "<p>62 rows × 6 columns</p>\n",
              "</div>\n",
              "      <button class=\"colab-df-convert\" onclick=\"convertToInteractive('df-b39f2a1e-d3bc-462e-8e62-96b7136a772f')\"\n",
              "              title=\"Convert this dataframe to an interactive table.\"\n",
              "              style=\"display:none;\">\n",
              "        \n",
              "  <svg xmlns=\"http://www.w3.org/2000/svg\" height=\"24px\"viewBox=\"0 0 24 24\"\n",
              "       width=\"24px\">\n",
              "    <path d=\"M0 0h24v24H0V0z\" fill=\"none\"/>\n",
              "    <path d=\"M18.56 5.44l.94 2.06.94-2.06 2.06-.94-2.06-.94-.94-2.06-.94 2.06-2.06.94zm-11 1L8.5 8.5l.94-2.06 2.06-.94-2.06-.94L8.5 2.5l-.94 2.06-2.06.94zm10 10l.94 2.06.94-2.06 2.06-.94-2.06-.94-.94-2.06-.94 2.06-2.06.94z\"/><path d=\"M17.41 7.96l-1.37-1.37c-.4-.4-.92-.59-1.43-.59-.52 0-1.04.2-1.43.59L10.3 9.45l-7.72 7.72c-.78.78-.78 2.05 0 2.83L4 21.41c.39.39.9.59 1.41.59.51 0 1.02-.2 1.41-.59l7.78-7.78 2.81-2.81c.8-.78.8-2.07 0-2.86zM5.41 20L4 18.59l7.72-7.72 1.47 1.35L5.41 20z\"/>\n",
              "  </svg>\n",
              "      </button>\n",
              "      \n",
              "  <style>\n",
              "    .colab-df-container {\n",
              "      display:flex;\n",
              "      flex-wrap:wrap;\n",
              "      gap: 12px;\n",
              "    }\n",
              "\n",
              "    .colab-df-convert {\n",
              "      background-color: #E8F0FE;\n",
              "      border: none;\n",
              "      border-radius: 50%;\n",
              "      cursor: pointer;\n",
              "      display: none;\n",
              "      fill: #1967D2;\n",
              "      height: 32px;\n",
              "      padding: 0 0 0 0;\n",
              "      width: 32px;\n",
              "    }\n",
              "\n",
              "    .colab-df-convert:hover {\n",
              "      background-color: #E2EBFA;\n",
              "      box-shadow: 0px 1px 2px rgba(60, 64, 67, 0.3), 0px 1px 3px 1px rgba(60, 64, 67, 0.15);\n",
              "      fill: #174EA6;\n",
              "    }\n",
              "\n",
              "    [theme=dark] .colab-df-convert {\n",
              "      background-color: #3B4455;\n",
              "      fill: #D2E3FC;\n",
              "    }\n",
              "\n",
              "    [theme=dark] .colab-df-convert:hover {\n",
              "      background-color: #434B5C;\n",
              "      box-shadow: 0px 1px 3px 1px rgba(0, 0, 0, 0.15);\n",
              "      filter: drop-shadow(0px 1px 2px rgba(0, 0, 0, 0.3));\n",
              "      fill: #FFFFFF;\n",
              "    }\n",
              "  </style>\n",
              "\n",
              "      <script>\n",
              "        const buttonEl =\n",
              "          document.querySelector('#df-b39f2a1e-d3bc-462e-8e62-96b7136a772f button.colab-df-convert');\n",
              "        buttonEl.style.display =\n",
              "          google.colab.kernel.accessAllowed ? 'block' : 'none';\n",
              "\n",
              "        async function convertToInteractive(key) {\n",
              "          const element = document.querySelector('#df-b39f2a1e-d3bc-462e-8e62-96b7136a772f');\n",
              "          const dataTable =\n",
              "            await google.colab.kernel.invokeFunction('convertToInteractive',\n",
              "                                                     [key], {});\n",
              "          if (!dataTable) return;\n",
              "\n",
              "          const docLinkHtml = 'Like what you see? Visit the ' +\n",
              "            '<a target=\"_blank\" href=https://colab.research.google.com/notebooks/data_table.ipynb>data table notebook</a>'\n",
              "            + ' to learn more about interactive tables.';\n",
              "          element.innerHTML = '';\n",
              "          dataTable['output_type'] = 'display_data';\n",
              "          await google.colab.output.renderOutput(dataTable, element);\n",
              "          const docLink = document.createElement('div');\n",
              "          docLink.innerHTML = docLinkHtml;\n",
              "          element.appendChild(docLink);\n",
              "        }\n",
              "      </script>\n",
              "    </div>\n",
              "  </div>\n",
              "  "
            ]
          },
          "metadata": {},
          "execution_count": 129
        }
      ]
    },
    {
      "cell_type": "markdown",
      "source": [
        "## BLAST search"
      ],
      "metadata": {
        "id": "7I1rl9Ud6Hzo"
      },
      "id": "7I1rl9Ud6Hzo"
    },
    {
      "cell_type": "code",
      "source": [],
      "metadata": {
        "id": "AQpPm4y-nihF"
      },
      "id": "AQpPm4y-nihF",
      "execution_count": null,
      "outputs": []
    },
    {
      "cell_type": "code",
      "source": [],
      "metadata": {
        "id": "pyk0vfkbniYS"
      },
      "id": "pyk0vfkbniYS",
      "execution_count": null,
      "outputs": []
    },
    {
      "cell_type": "code",
      "source": [],
      "metadata": {
        "id": "BXJxo7QCniRO"
      },
      "id": "BXJxo7QCniRO",
      "execution_count": null,
      "outputs": []
    },
    {
      "cell_type": "code",
      "source": [],
      "metadata": {
        "id": "wEtd5fJHniJ4"
      },
      "id": "wEtd5fJHniJ4",
      "execution_count": null,
      "outputs": []
    }
  ],
  "metadata": {
    "kernelspec": {
      "display_name": "Python 3 (ipykernel)",
      "language": "python",
      "name": "python3"
    },
    "language_info": {
      "codemirror_mode": {
        "name": "ipython",
        "version": 3
      },
      "file_extension": ".py",
      "mimetype": "text/x-python",
      "name": "python",
      "nbconvert_exporter": "python",
      "pygments_lexer": "ipython3",
      "version": "3.10.8"
    },
    "colab": {
      "provenance": [],
      "collapsed_sections": [
        "5dum_pDBrQlz"
      ]
    }
  },
  "nbformat": 4,
  "nbformat_minor": 5
}